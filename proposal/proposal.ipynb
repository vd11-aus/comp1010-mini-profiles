{
  "cells": [
    {
      "cell_type": "markdown",
      "metadata": {
        "colab_type": "text",
        "id": "view-in-github"
      },
      "source": [
        "<a href=\"https://colab.research.google.com/github/sim-mautner/cs1010-21t3/blob/main/project/proposal.ipynb\" target=\"_parent\"><img src=\"https://colab.research.google.com/assets/colab-badge.svg\" alt=\"Open In Colab\"/></a>"
      ]
    },
    {
      "cell_type": "markdown",
      "metadata": {
        "id": "P4sz55eAPf56"
      },
      "source": [
        "# *UNSW Mini-Profiles*\n",
        "\n",
        "## Contributors\n",
        "\n",
        "### Name: *Vietlan Dinh*\n",
        "\n",
        "### Student number: *z5260307*\n",
        "\n",
        "## Problem statement\n",
        "\n",
        "*Give a brief description of the problem you are trying to solve. Don't include any technical details. Don't just describe what your program does. Focus on the purpose of your program. Your description should be understandable to a reader with no technical background or domain knowledge.*\n",
        "\n",
        "### When university students are forming groups, they are hoping to find those that share similar visions and values to them - but this is far from an easy task. Without knowing everyone in their class, it can be difficult for individuals to find the right group that matches their style -  a concern which university staff have also recognised as seen through the introduction of icebreakers in tutorials. Whilst they can help, they fail to have a substantial impact as the minimal amount of time allocated to icebreakers makes it difficult for students to get to know their colleagues - and so the question must be asked: How can we improve the group-finding abilities of students?\n",
        "\n",
        "## Background\n",
        "\n",
        "*Describe the context in which you are undertaking this project. You should include: any external resources on which your project depends (data sources, website APIs, Python libraries we've not covered in this course, etc.), existing solutions to the same or similar projects, and any other information that the reader needs to know to understand how you intend to solve the given problem.*\n",
        "\n",
        "### One such solution could be an application which allows users to make a mini-profile that could then be accessed through their zID that can be shared to others. It acts as an aid, helping individuals  learn about their classmatess by not only providing more insights in the same amount of time, but also encouraging connection outside of the classroom (since they don't need to be in class to learn about each other). Users can sign-up, login and edit their mini-profile (name, gender, about me, etc.), whilst viewers can seamlessly visit mini-profiles and download them as PDFs / Word Documents. It would enter the market as a differentiated competitor; tackling an audience that isn't tapped by existing solutions like LinkedIn. Selling points include a neutralised-philosophy (ie. LinkedIn is professional), simplification and integration with UNSW services. Google Firebase would be required as a database and authentication system, whilst Flask helps to create the web application. In order to convert the mini-profile to a document, python-docx is required as an additional library.\n",
        "\n",
        "## Target users\n",
        "\n",
        "*Who are the intended users of the application for which you are making a protoype? What are their needs? This section does not need to be long, but avoid being too broad in your description of the users. \"Anyone who wants it\" isn't a specific enough set of people to target an application.*\n",
        "\n",
        "### The target users of this application could be the students of UNSW who have group-related projects that have weightings. However, this could be used in a much more generalised sense as well - being utilised in any situations where people want to learn about each other quickly, like at networking events or for USNW entrepreneurs looking for talent.\n",
        "\n",
        "## Minimum Viable Product/Prototype\n",
        "\n",
        "*Consider what the simplest solution to the problem above would be. For this project, you are not required to produce a completely polished product fit for general use, but you should still take into account usability when deciding viability. In this section, describe a version of your application with the fewest possible features, but which would still be useful to the target users.*\n",
        "\n",
        "### The minimum viable product would have a working login and sign-up system alongside a mini-profile viewer. Elements of the mini-profile would be more bare-bones, perhaps restricted to text, whilst forms of input could be strictly textboxes and buttons. A search function would allow users to search by either ID or by class."
      ]
    },
    {
      "cell_type": "markdown",
      "metadata": {
        "id": "H7OrkuYWPf59"
      },
      "source": [
        "## Demonstration of feasibility\n",
        "\n",
        "*Describe a core feature of your prototype application and provide a demonstration of how that feature may work in the code cell below (you can add further code cells if you wish). For example, if your application gets data from an external source, write code here that does that so you can demonstrate it is feasible. Similarly, if your application relies on you implementing an algorithm, using a library we haven't covered in the course, or generating images/visualisations, write code here does that.*\n",
        "\n",
        "*Your code must compile and run in order to get these marks. If you need to submit this section in an external file, indicate that here.*"
      ]
    },
    {
      "cell_type": "markdown",
      "metadata": {},
      "source": [
        "### The demonstration of feasibility is located in a separate .py file called \"feasibility.py\", which can be found within the same directory. It has the ability to edit (upon successful sign-on) and view profiles. This requires the use of firebase_admin library (installed using commands below), which allows it to connect, read and write sample data.\n",
        "\n",
        "### The main page shows sample credentials which you can use to sign in by going to \"Manage Account\". Upon successful sign in you can view your profile data and edit it - though you can cancel if you would like to revert changes.\n",
        "\n",
        "### The view student page allows you to input zIDs to view profiles; the only profiles that exist so far are those listed in the samples.\n",
        "\n",
        "### An error page also exists which takes in reason-codes to give easily-understood feedback on what went wrong."
      ]
    },
    {
      "cell_type": "code",
      "execution_count": null,
      "metadata": {},
      "outputs": [],
      "source": [
        "!pip3 install firebase_admin"
      ]
    },
    {
      "cell_type": "markdown",
      "metadata": {
        "id": "XYkG4GE5Pf6I"
      },
      "source": [
        "## \"Nice to have\" features\n",
        "\n",
        "*Describe any additional features that would improve the experience of using your prototype for the target users. These features should not be strictly necessary for the prototype to be useful, but may include things most users would expect as standard. This could include things like: being able to register an account, saving user preferences, or social media integration. Features should be itemized with dot points or numbered.*\n",
        "\n",
        "### 1. Edit Sign-In Credentials\n",
        "\n",
        "### 2. Advanced Mini-Profiles: tables, links, images, video\n",
        "\n",
        "### 3. Advanced UI: combo boxes, dropdown lists, radio buttons, upload media dialogs\n",
        "\n",
        "### 4. Revert to previous save"
      ]
    },
    {
      "cell_type": "markdown",
      "metadata": {
        "id": "Q47Ea6a8Pf6J"
      },
      "source": [
        "## Stretch goals\n",
        "\n",
        "*Include here any features that would make your prototype really shine, but which you are not confident you can implement in the time available for this project. Don't be afraid to be ambitious in selecting stretch goals. See the marking scheme for the final prototype for information on what marks are available for completing stretch goals. Stretch goals should be itemized with dot points or numbered.*\n",
        "\n",
        "### 1. Extremely Advanced Mini-Profiles: themes, re-ordering, WYSIWYG-editing, drag-and-drop\n",
        "\n",
        "### 2. Built-in Messaging: live, mail, notifications\n",
        "\n",
        "### 3. Single-Sign-On (SSO)\n",
        "\n",
        "### 4. Friends & Mutuals\n",
        "\n",
        "### 5. Suggestions: people you may know, people in your classes"
      ]
    },
    {
      "cell_type": "markdown",
      "metadata": {
        "id": "TJtK7ahhPf6K"
      },
      "source": [
        "## Marking Criteria\n",
        "\n",
        "The table below contains the marking criteria for this proposal. Don't delete it as your tutor will fill it in during marking.\n",
        "\n",
        "| Criteria | Mark | Notes | \n",
        "| -------------------------------------------------------- | ---- | --- |\n",
        "| Clearly defined problem to be solved (1 mark)                                     |      | |\n",
        "| Background includes information necessary for building a prototype (2 mark)       |      | |\n",
        "| Appropriate set of target users (1 marks)                                         |      | |\n",
        "| MVP is both minimal and viable (1 marks)                                          |      | |\n",
        "| Code in feasibility demonstration produces an appropriate result (3 marks)        |      | |\n",
        "| Comprehensive list of \"nice to have\" features (1 mark)                            |      | |\n",
        "| Appropriate ambitious stretch goals (1 mark)                                      |      | |\n"
      ]
    }
  ],
  "metadata": {
    "colab": {
      "include_colab_link": true,
      "name": "proposal.ipynb",
      "provenance": []
    },
    "interpreter": {
      "hash": "7f89b4908d4bfe7178cc7ff2f96f16530bfde279772dc790f993ee37d8e72681"
    },
    "kernelspec": {
      "display_name": "Python 3.9.7 64-bit (windows store)",
      "name": "python3"
    },
    "language_info": {
      "codemirror_mode": {
        "name": "ipython",
        "version": 3
      },
      "file_extension": ".py",
      "mimetype": "text/x-python",
      "name": "python",
      "nbconvert_exporter": "python",
      "pygments_lexer": "ipython3",
      "version": "3.9.7"
    },
    "orig_nbformat": 2
  },
  "nbformat": 4,
  "nbformat_minor": 2
}
